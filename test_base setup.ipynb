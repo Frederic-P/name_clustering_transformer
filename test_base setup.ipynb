{
 "cells": [
  {
   "cell_type": "code",
   "execution_count": 1,
   "id": "bc75cf45",
   "metadata": {},
   "outputs": [
    {
     "name": "stderr",
     "output_type": "stream",
     "text": [
      "/home/pricie/frederic/name_clustering_transformer/.venv/lib64/python3.12/site-packages/tqdm/auto.py:21: TqdmWarning: IProgress not found. Please update jupyter and ipywidgets. See https://ipywidgets.readthedocs.io/en/stable/user_install.html\n",
      "  from .autonotebook import tqdm as notebook_tqdm\n"
     ]
    }
   ],
   "source": [
    "from sentence_transformers import SentenceTransformer\n",
    "import pandas as pd\n",
    "import numpy as np"
   ]
  },
  {
   "cell_type": "markdown",
   "id": "a8ea50fb",
   "metadata": {},
   "source": [
    "## Notes:\n",
    "**Sentence transformer**: https://sbert.net/\n",
    "\n",
    "**HuggingFace model**: https://huggingface.co/Graphlet-AI/eridu "
   ]
  },
  {
   "cell_type": "code",
   "execution_count": 2,
   "id": "588c756c",
   "metadata": {},
   "outputs": [],
   "source": [
    "# Download from the 🤗 Hub\n",
    "model = SentenceTransformer(\"Graphlet-AI/eridu\")"
   ]
  },
  {
   "cell_type": "code",
   "execution_count": 3,
   "id": "9879ecab",
   "metadata": {},
   "outputs": [],
   "source": [
    "\n",
    "names = [\n",
    "    \"Frank Lloyd Right\",\n",
    "    \"Jim Jeffries\",\n",
    "    \"Russell H. Jurney\",\n",
    "    \"Russell Henry Jurney\", \n",
    "    \"Русс Джерни\", \n",
    "    \"Erasmus Rotterodamus\",\n",
    "    \"Erasmus van Rotterdam\", \n",
    "    \"Erasme de Rotterdam\", \n",
    "    \"Leonardo da Vinci\", \n",
    "    \"Leonardo di ser Piero da Vinci\", \n",
    "    \"Леонардо да Винчи\", \n",
    "    \"Pieter Bruegel the Elder\", \n",
    "    \"Pieter Bruegel de Oude\", \n",
    "    \"Pieter Bruegel de Oudere\", \n",
    "    \"Pieter Brueghel l'Ancien\", \n",
    "    \"Pieter Brueghel the Younger\", \n",
    "    \"Pieter Brueghel de Jonge\", \n",
    "    \"Pieter Brueghel le Jeune\", \n",
    "    \"Tim Lee\", \n",
    "    \"Timothy Lee\", \n",
    "    \"Tim Leeds\", \n",
    "    \"Pyrreia\",    \"Φύρεα\",     \"Pyrria\",     'Pyrrea', 'Pyrraia', 'Pyrria', 'Paurreia', 'Pyrea', 'Phyreia', 'Phyrea', 'Πύρρεια', \n",
    "    \"Ἄβελλα\", \"Abella\", \"Ἀβέλλοις\"\n",
    "]\n"
   ]
  },
  {
   "cell_type": "code",
   "execution_count": 4,
   "id": "94b4c39f",
   "metadata": {},
   "outputs": [
    {
     "name": "stdout",
     "output_type": "stream",
     "text": [
      "(35, 384)\n"
     ]
    }
   ],
   "source": [
    "embeddings = model.encode(names)\n",
    "print(embeddings.shape)\n",
    "# [3, 384]"
   ]
  },
  {
   "cell_type": "code",
   "execution_count": 5,
   "id": "9911b4c3",
   "metadata": {},
   "outputs": [
    {
     "name": "stdout",
     "output_type": "stream",
     "text": [
      "torch.Size([35, 35])\n"
     ]
    }
   ],
   "source": [
    "# Get the similarity scores for the embeddings\n",
    "similarities = model.similarity(embeddings, embeddings)\n",
    "print(similarities.shape)\n",
    "# [3, 3]\n"
   ]
  },
  {
   "cell_type": "code",
   "execution_count": 6,
   "id": "0f015ff2",
   "metadata": {},
   "outputs": [
    {
     "name": "stdout",
     "output_type": "stream",
     "text": [
      "[[0.99999964 0.99433494 0.9871316  ... 0.98407036 0.9755139  0.9704335 ]\n",
      " [0.99433494 1.         0.98398656 ... 0.97267413 0.96312916 0.96189106]\n",
      " [0.9871316  0.98398656 1.         ... 0.97056973 0.9621057  0.9547693 ]\n",
      " ...\n",
      " [0.98407036 0.97267437 0.97056973 ... 1.0000002  0.99482596 0.9829719 ]\n",
      " [0.9755138  0.9631292  0.9621059  ... 0.99482596 0.9999999  0.9712906 ]\n",
      " [0.9704336  0.9618911  0.9547691  ... 0.9829719  0.9712906  1.        ]]\n"
     ]
    }
   ],
   "source": [
    "print(similarities.numpy())\n",
    "# [[1.         0.7203882  0.7773637  0.80202234]\n",
    "#  [0.7203882  1.0000001  0.7606021  0.829355  ]\n",
    "#  [0.7773637  0.7606021  0.99999994 0.81948197]\n",
    "#  [0.80202234 0.829355   0.81948197 1.        ]]"
   ]
  },
  {
   "cell_type": "markdown",
   "id": "91712850",
   "metadata": {},
   "source": [
    "# Similarity comparison:\n"
   ]
  },
  {
   "cell_type": "code",
   "execution_count": 7,
   "id": "d2f56dd6",
   "metadata": {},
   "outputs": [],
   "source": [
    "def compute_name_similarities(names):\n",
    "    # Load the eridu model (fine-tuned for name matching) :contentReference[oaicite:0]{index=0}\n",
    "    model = SentenceTransformer(\"Graphlet-AI/eridu\")\n",
    "    \n",
    "    # Compute embeddings\n",
    "    embeddings = model.encode(names, convert_to_tensor=True)\n",
    "    \n",
    "    # Compute pairwise similarity matrix (cosine similarities)\n",
    "    # SentenceTransformer provides a helper `similarity` method\n",
    "    sim_matrix = model.similarity(embeddings, embeddings)\n",
    "    # sim_matrix is a PyTorch or numpy tensor with shape (n, n)\n",
    "    \n",
    "    # Convert to numpy for easier handling\n",
    "    sim_np = sim_matrix.cpu().numpy() if hasattr(sim_matrix, \"cpu\") else sim_matrix\n",
    "    \n",
    "    return sim_np\n",
    "\n",
    "def print_similarities(names, sim_matrix):\n",
    "    n = len(names)\n",
    "    print(\"Similarity matrix (higher = more similar):\")\n",
    "    # Print header\n",
    "    print(\"\\t\" + \"\\t\".join([f\"[{i}]\" for i in range(n)]))\n",
    "    for i in range(n):\n",
    "        row = sim_matrix[i]\n",
    "        print(f\"[{i}] {names[i]}\\t\" + \"\\t\".join(f\"{row[j]:.4f}\" for j in range(n)))\n",
    "    print()\n",
    "    # Optionally: list the top matches for each name\n",
    "    for i in range(n):\n",
    "        sims = list(enumerate(sim_matrix[i]))\n",
    "        # ignore itself\n",
    "        sims = [(j, s) for j, s in sims if j != i]\n",
    "        sims_sorted = sorted(sims, key=lambda x: x[1], reverse=True)\n",
    "        top_j, top_s = sims_sorted[0]\n",
    "        print(f\"Best match for '{names[i]}' → '{names[top_j]}' with similarity {top_s:.4f}\")\n"
   ]
  },
  {
   "cell_type": "code",
   "execution_count": 8,
   "id": "f16e4e40",
   "metadata": {},
   "outputs": [
    {
     "name": "stdout",
     "output_type": "stream",
     "text": [
      "Similarity matrix (higher = more similar):\n",
      "\t[0]\t[1]\t[2]\t[3]\t[4]\t[5]\t[6]\t[7]\t[8]\t[9]\t[10]\t[11]\t[12]\t[13]\t[14]\t[15]\t[16]\t[17]\t[18]\t[19]\t[20]\t[21]\t[22]\t[23]\t[24]\t[25]\t[26]\t[27]\t[28]\t[29]\t[30]\t[31]\t[32]\t[33]\t[34]\n",
      "[0] Frank Lloyd Right\t1.0000\t0.9943\t0.9871\t0.9952\t0.9953\t0.9608\t0.9773\t0.9904\t0.9961\t0.9952\t0.9894\t0.9919\t0.9956\t0.9929\t0.9949\t0.9932\t0.9929\t0.9956\t0.9819\t0.9814\t0.9441\t0.9705\t0.9911\t0.9841\t0.9881\t0.9795\t0.9841\t0.9826\t0.9919\t0.9812\t0.9913\t0.9927\t0.9841\t0.9755\t0.9704\n",
      "[1] Jim Jeffries\t0.9943\t1.0000\t0.9840\t0.9920\t0.9938\t0.9645\t0.9726\t0.9874\t0.9922\t0.9912\t0.9825\t0.9879\t0.9921\t0.9888\t0.9904\t0.9905\t0.9906\t0.9935\t0.9766\t0.9764\t0.9402\t0.9595\t0.9844\t0.9756\t0.9801\t0.9689\t0.9756\t0.9771\t0.9840\t0.9723\t0.9833\t0.9866\t0.9727\t0.9631\t0.9619\n",
      "[2] Russell H. Jurney\t0.9871\t0.9840\t1.0000\t0.9972\t0.9917\t0.9516\t0.9597\t0.9730\t0.9850\t0.9830\t0.9778\t0.9813\t0.9847\t0.9825\t0.9839\t0.9841\t0.9835\t0.9853\t0.9865\t0.9864\t0.9658\t0.9553\t0.9740\t0.9705\t0.9731\t0.9650\t0.9705\t0.9655\t0.9770\t0.9644\t0.9748\t0.9801\t0.9706\t0.9621\t0.9548\n",
      "[3] Russell Henry Jurney\t0.9952\t0.9920\t0.9972\t1.0000\t0.9973\t0.9608\t0.9705\t0.9835\t0.9933\t0.9919\t0.9863\t0.9887\t0.9926\t0.9899\t0.9917\t0.9910\t0.9907\t0.9927\t0.9876\t0.9869\t0.9594\t0.9641\t0.9839\t0.9789\t0.9823\t0.9736\t0.9789\t0.9751\t0.9860\t0.9733\t0.9840\t0.9881\t0.9783\t0.9693\t0.9642\n",
      "[4] Русс Джерни\t0.9953\t0.9938\t0.9917\t0.9973\t1.0000\t0.9649\t0.9725\t0.9862\t0.9942\t0.9935\t0.9874\t0.9883\t0.9927\t0.9895\t0.9920\t0.9910\t0.9910\t0.9937\t0.9821\t0.9815\t0.9495\t0.9682\t0.9872\t0.9826\t0.9857\t0.9770\t0.9826\t0.9791\t0.9889\t0.9772\t0.9869\t0.9900\t0.9770\t0.9689\t0.9628\n",
      "[5] Erasmus Rotterodamus\t0.9608\t0.9645\t0.9516\t0.9608\t0.9649\t1.0000\t0.9530\t0.9581\t0.9631\t0.9647\t0.9531\t0.9566\t0.9601\t0.9573\t0.9612\t0.9623\t0.9614\t0.9601\t0.9334\t0.9341\t0.9037\t0.9330\t0.9525\t0.9484\t0.9565\t0.9432\t0.9484\t0.9423\t0.9517\t0.9398\t0.9505\t0.9567\t0.9459\t0.9319\t0.9504\n",
      "[6] Erasmus van Rotterdam\t0.9773\t0.9726\t0.9597\t0.9705\t0.9725\t0.9530\t1.0000\t0.9849\t0.9742\t0.9727\t0.9710\t0.9744\t0.9747\t0.9737\t0.9795\t0.9720\t0.9698\t0.9764\t0.9511\t0.9510\t0.9102\t0.9556\t0.9769\t0.9678\t0.9720\t0.9626\t0.9678\t0.9662\t0.9763\t0.9653\t0.9740\t0.9753\t0.9794\t0.9736\t0.9749\n",
      "[7] Erasme de Rotterdam\t0.9904\t0.9874\t0.9730\t0.9835\t0.9862\t0.9581\t0.9849\t1.0000\t0.9903\t0.9886\t0.9869\t0.9856\t0.9889\t0.9866\t0.9908\t0.9865\t0.9856\t0.9898\t0.9683\t0.9693\t0.9243\t0.9672\t0.9920\t0.9798\t0.9820\t0.9760\t0.9798\t0.9847\t0.9873\t0.9804\t0.9879\t0.9869\t0.9821\t0.9784\t0.9643\n",
      "[8] Leonardo da Vinci\t0.9961\t0.9922\t0.9850\t0.9933\t0.9942\t0.9631\t0.9742\t0.9903\t1.0000\t0.9986\t0.9947\t0.9895\t0.9944\t0.9909\t0.9933\t0.9922\t0.9926\t0.9949\t0.9794\t0.9790\t0.9427\t0.9692\t0.9921\t0.9830\t0.9864\t0.9790\t0.9830\t0.9828\t0.9902\t0.9806\t0.9904\t0.9905\t0.9809\t0.9744\t0.9680\n",
      "[9] Leonardo di ser Piero da Vinci\t0.9952\t0.9912\t0.9830\t0.9919\t0.9935\t0.9647\t0.9727\t0.9886\t0.9986\t1.0000\t0.9942\t0.9880\t0.9933\t0.9894\t0.9915\t0.9909\t0.9910\t0.9942\t0.9770\t0.9770\t0.9422\t0.9699\t0.9908\t0.9828\t0.9867\t0.9790\t0.9828\t0.9820\t0.9896\t0.9801\t0.9894\t0.9900\t0.9774\t0.9693\t0.9686\n",
      "[10] Леонардо да Винчи\t0.9894\t0.9825\t0.9778\t0.9863\t0.9874\t0.9531\t0.9710\t0.9869\t0.9947\t0.9942\t1.0000\t0.9854\t0.9892\t0.9861\t0.9873\t0.9871\t0.9869\t0.9899\t0.9744\t0.9748\t0.9444\t0.9690\t0.9878\t0.9803\t0.9825\t0.9770\t0.9803\t0.9797\t0.9864\t0.9780\t0.9856\t0.9876\t0.9732\t0.9686\t0.9618\n",
      "[11] Pieter Bruegel the Elder\t0.9919\t0.9879\t0.9813\t0.9887\t0.9883\t0.9566\t0.9744\t0.9856\t0.9895\t0.9880\t0.9854\t1.0000\t0.9984\t0.9996\t0.9965\t0.9984\t0.9975\t0.9969\t0.9722\t0.9726\t0.9340\t0.9639\t0.9843\t0.9784\t0.9829\t0.9733\t0.9784\t0.9753\t0.9854\t0.9733\t0.9842\t0.9893\t0.9821\t0.9731\t0.9713\n",
      "[12] Pieter Bruegel de Oude\t0.9956\t0.9921\t0.9847\t0.9926\t0.9927\t0.9601\t0.9747\t0.9889\t0.9944\t0.9933\t0.9892\t0.9984\t1.0000\t0.9992\t0.9983\t0.9989\t0.9987\t0.9990\t0.9772\t0.9777\t0.9374\t0.9672\t0.9892\t0.9818\t0.9861\t0.9771\t0.9818\t0.9804\t0.9891\t0.9775\t0.9883\t0.9921\t0.9832\t0.9746\t0.9721\n",
      "[13] Pieter Bruegel de Oudere\t0.9929\t0.9888\t0.9825\t0.9899\t0.9895\t0.9573\t0.9737\t0.9866\t0.9909\t0.9894\t0.9861\t0.9996\t0.9992\t1.0000\t0.9975\t0.9988\t0.9982\t0.9976\t0.9739\t0.9745\t0.9341\t0.9642\t0.9859\t0.9790\t0.9835\t0.9742\t0.9790\t0.9770\t0.9863\t0.9743\t0.9853\t0.9900\t0.9825\t0.9737\t0.9714\n",
      "[14] Pieter Brueghel l'Ancien\t0.9949\t0.9904\t0.9839\t0.9917\t0.9920\t0.9612\t0.9795\t0.9908\t0.9933\t0.9915\t0.9873\t0.9965\t0.9983\t0.9975\t1.0000\t0.9972\t0.9969\t0.9978\t0.9756\t0.9764\t0.9314\t0.9671\t0.9903\t0.9813\t0.9855\t0.9774\t0.9813\t0.9817\t0.9893\t0.9790\t0.9891\t0.9918\t0.9873\t0.9798\t0.9738\n",
      "[15] Pieter Brueghel the Younger\t0.9932\t0.9905\t0.9841\t0.9910\t0.9910\t0.9623\t0.9720\t0.9865\t0.9922\t0.9909\t0.9871\t0.9984\t0.9989\t0.9988\t0.9972\t1.0000\t0.9995\t0.9983\t0.9753\t0.9764\t0.9372\t0.9657\t0.9864\t0.9801\t0.9846\t0.9756\t0.9801\t0.9783\t0.9867\t0.9757\t0.9861\t0.9911\t0.9807\t0.9720\t0.9706\n",
      "[16] Pieter Brueghel de Jonge\t0.9929\t0.9906\t0.9835\t0.9907\t0.9910\t0.9614\t0.9698\t0.9856\t0.9926\t0.9910\t0.9869\t0.9975\t0.9987\t0.9982\t0.9969\t0.9995\t1.0000\t0.9981\t0.9752\t0.9762\t0.9355\t0.9638\t0.9860\t0.9786\t0.9832\t0.9741\t0.9786\t0.9776\t0.9857\t0.9749\t0.9855\t0.9900\t0.9791\t0.9703\t0.9679\n",
      "[17] Pieter Brueghel le Jeune\t0.9956\t0.9935\t0.9853\t0.9927\t0.9937\t0.9601\t0.9764\t0.9898\t0.9949\t0.9942\t0.9899\t0.9969\t0.9990\t0.9976\t0.9978\t0.9983\t0.9981\t1.0000\t0.9776\t0.9789\t0.9392\t0.9684\t0.9900\t0.9825\t0.9863\t0.9777\t0.9825\t0.9825\t0.9898\t0.9794\t0.9890\t0.9926\t0.9811\t0.9735\t0.9709\n",
      "[18] Tim Lee\t0.9819\t0.9766\t0.9865\t0.9876\t0.9821\t0.9334\t0.9511\t0.9683\t0.9794\t0.9770\t0.9744\t0.9722\t0.9772\t0.9739\t0.9756\t0.9753\t0.9752\t0.9776\t1.0000\t0.9985\t0.9750\t0.9494\t0.9694\t0.9640\t0.9666\t0.9592\t0.9640\t0.9636\t0.9731\t0.9609\t0.9708\t0.9748\t0.9626\t0.9538\t0.9453\n",
      "[19] Timothy Lee\t0.9814\t0.9764\t0.9864\t0.9869\t0.9815\t0.9341\t0.9510\t0.9693\t0.9790\t0.9770\t0.9748\t0.9726\t0.9777\t0.9745\t0.9764\t0.9764\t0.9762\t0.9789\t0.9985\t1.0000\t0.9732\t0.9513\t0.9702\t0.9651\t0.9670\t0.9607\t0.9651\t0.9667\t0.9738\t0.9631\t0.9714\t0.9757\t0.9617\t0.9541\t0.9454\n",
      "[20] Tim Leeds\t0.9441\t0.9402\t0.9658\t0.9594\t0.9495\t0.9037\t0.9102\t0.9243\t0.9427\t0.9422\t0.9444\t0.9340\t0.9374\t0.9341\t0.9314\t0.9372\t0.9355\t0.9392\t0.9750\t0.9732\t1.0000\t0.9196\t0.9262\t0.9315\t0.9323\t0.9253\t0.9315\t0.9204\t0.9347\t0.9216\t0.9303\t0.9402\t0.9179\t0.9082\t0.9122\n",
      "[21] Pyrreia\t0.9705\t0.9595\t0.9553\t0.9641\t0.9682\t0.9330\t0.9556\t0.9672\t0.9692\t0.9699\t0.9690\t0.9639\t0.9672\t0.9642\t0.9671\t0.9657\t0.9638\t0.9684\t0.9494\t0.9513\t0.9196\t1.0000\t0.9802\t0.9967\t0.9936\t0.9984\t0.9967\t0.9880\t0.9910\t0.9918\t0.9882\t0.9884\t0.9640\t0.9654\t0.9592\n",
      "[22] Φύρεα\t0.9911\t0.9844\t0.9740\t0.9839\t0.9872\t0.9525\t0.9769\t0.9920\t0.9921\t0.9908\t0.9878\t0.9843\t0.9892\t0.9859\t0.9903\t0.9864\t0.9860\t0.9900\t0.9694\t0.9702\t0.9262\t0.9802\t1.0000\t0.9891\t0.9897\t0.9881\t0.9891\t0.9939\t0.9948\t0.9930\t0.9972\t0.9932\t0.9853\t0.9854\t0.9688\n",
      "[23] Pyrria\t0.9841\t0.9756\t0.9705\t0.9789\t0.9826\t0.9484\t0.9678\t0.9798\t0.9830\t0.9828\t0.9803\t0.9784\t0.9818\t0.9790\t0.9813\t0.9801\t0.9786\t0.9825\t0.9640\t0.9651\t0.9315\t0.9967\t0.9891\t1.0000\t0.9987\t0.9987\t1.0000\t0.9918\t0.9974\t0.9935\t0.9947\t0.9955\t0.9762\t0.9752\t0.9689\n",
      "[24] Pyrrea\t0.9881\t0.9801\t0.9731\t0.9823\t0.9857\t0.9565\t0.9720\t0.9820\t0.9864\t0.9867\t0.9825\t0.9829\t0.9861\t0.9835\t0.9855\t0.9846\t0.9832\t0.9863\t0.9666\t0.9670\t0.9323\t0.9936\t0.9897\t0.9987\t1.0000\t0.9970\t0.9987\t0.9894\t0.9979\t0.9912\t0.9950\t0.9967\t0.9797\t0.9751\t0.9762\n",
      "[25] Pyrraia\t0.9795\t0.9689\t0.9650\t0.9736\t0.9770\t0.9432\t0.9626\t0.9760\t0.9790\t0.9790\t0.9770\t0.9733\t0.9771\t0.9742\t0.9774\t0.9756\t0.9741\t0.9777\t0.9592\t0.9607\t0.9253\t0.9984\t0.9881\t0.9987\t0.9970\t1.0000\t0.9987\t0.9918\t0.9955\t0.9947\t0.9940\t0.9933\t0.9738\t0.9739\t0.9667\n",
      "[26] Pyrria\t0.9841\t0.9756\t0.9705\t0.9789\t0.9826\t0.9484\t0.9678\t0.9798\t0.9830\t0.9828\t0.9803\t0.9784\t0.9818\t0.9790\t0.9813\t0.9801\t0.9786\t0.9825\t0.9640\t0.9651\t0.9315\t0.9967\t0.9891\t1.0000\t0.9987\t0.9987\t1.0000\t0.9918\t0.9974\t0.9935\t0.9947\t0.9955\t0.9762\t0.9752\t0.9689\n",
      "[27] Paurreia\t0.9826\t0.9771\t0.9655\t0.9751\t0.9791\t0.9423\t0.9662\t0.9847\t0.9828\t0.9820\t0.9797\t0.9753\t0.9804\t0.9770\t0.9817\t0.9783\t0.9776\t0.9825\t0.9636\t0.9667\t0.9204\t0.9880\t0.9939\t0.9918\t0.9894\t0.9918\t0.9918\t1.0000\t0.9941\t0.9965\t0.9949\t0.9922\t0.9721\t0.9753\t0.9571\n",
      "[28] Pyrea\t0.9919\t0.9840\t0.9770\t0.9860\t0.9889\t0.9517\t0.9763\t0.9873\t0.9902\t0.9896\t0.9864\t0.9854\t0.9891\t0.9863\t0.9893\t0.9867\t0.9857\t0.9898\t0.9731\t0.9738\t0.9347\t0.9910\t0.9948\t0.9974\t0.9979\t0.9955\t0.9974\t0.9941\t1.0000\t0.9942\t0.9979\t0.9977\t0.9835\t0.9811\t0.9744\n",
      "[29] Phyreia\t0.9812\t0.9723\t0.9644\t0.9733\t0.9772\t0.9398\t0.9653\t0.9804\t0.9806\t0.9801\t0.9780\t0.9733\t0.9775\t0.9743\t0.9790\t0.9757\t0.9749\t0.9794\t0.9609\t0.9631\t0.9216\t0.9918\t0.9930\t0.9935\t0.9912\t0.9947\t0.9935\t0.9965\t0.9942\t1.0000\t0.9971\t0.9919\t0.9742\t0.9781\t0.9601\n",
      "[30] Phyrea\t0.9913\t0.9833\t0.9748\t0.9840\t0.9869\t0.9505\t0.9740\t0.9879\t0.9904\t0.9894\t0.9856\t0.9842\t0.9883\t0.9853\t0.9891\t0.9861\t0.9855\t0.9890\t0.9708\t0.9714\t0.9303\t0.9882\t0.9972\t0.9947\t0.9950\t0.9940\t0.9947\t0.9949\t0.9979\t0.9971\t1.0000\t0.9961\t0.9844\t0.9840\t0.9712\n",
      "[31] Πύρρεια\t0.9927\t0.9866\t0.9801\t0.9881\t0.9900\t0.9567\t0.9753\t0.9869\t0.9905\t0.9900\t0.9876\t0.9893\t0.9921\t0.9900\t0.9918\t0.9911\t0.9900\t0.9926\t0.9748\t0.9757\t0.9402\t0.9884\t0.9932\t0.9955\t0.9967\t0.9933\t0.9955\t0.9922\t0.9977\t0.9919\t0.9961\t1.0000\t0.9811\t0.9770\t0.9736\n",
      "[32] Ἄβελλα\t0.9841\t0.9727\t0.9706\t0.9783\t0.9770\t0.9459\t0.9794\t0.9821\t0.9809\t0.9774\t0.9732\t0.9821\t0.9832\t0.9825\t0.9873\t0.9807\t0.9791\t0.9811\t0.9626\t0.9617\t0.9179\t0.9640\t0.9853\t0.9762\t0.9797\t0.9738\t0.9762\t0.9721\t0.9835\t0.9742\t0.9844\t0.9811\t1.0000\t0.9948\t0.9830\n",
      "[33] Abella\t0.9755\t0.9631\t0.9621\t0.9693\t0.9689\t0.9319\t0.9736\t0.9784\t0.9744\t0.9693\t0.9686\t0.9731\t0.9746\t0.9737\t0.9798\t0.9720\t0.9703\t0.9735\t0.9538\t0.9541\t0.9082\t0.9654\t0.9854\t0.9752\t0.9751\t0.9739\t0.9752\t0.9753\t0.9811\t0.9781\t0.9840\t0.9770\t0.9948\t1.0000\t0.9713\n",
      "[34] Ἀβέλλοις\t0.9704\t0.9619\t0.9548\t0.9642\t0.9628\t0.9504\t0.9749\t0.9643\t0.9680\t0.9686\t0.9618\t0.9713\t0.9721\t0.9714\t0.9738\t0.9706\t0.9679\t0.9709\t0.9453\t0.9454\t0.9122\t0.9592\t0.9688\t0.9689\t0.9762\t0.9667\t0.9689\t0.9571\t0.9744\t0.9601\t0.9712\t0.9736\t0.9830\t0.9713\t1.0000\n",
      "\n",
      "Best match for 'Frank Lloyd Right' → 'Leonardo da Vinci' with similarity 0.9961\n",
      "Best match for 'Jim Jeffries' → 'Frank Lloyd Right' with similarity 0.9943\n",
      "Best match for 'Russell H. Jurney' → 'Russell Henry Jurney' with similarity 0.9972\n",
      "Best match for 'Russell Henry Jurney' → 'Русс Джерни' with similarity 0.9973\n",
      "Best match for 'Русс Джерни' → 'Russell Henry Jurney' with similarity 0.9973\n",
      "Best match for 'Erasmus Rotterodamus' → 'Русс Джерни' with similarity 0.9649\n",
      "Best match for 'Erasmus van Rotterdam' → 'Erasme de Rotterdam' with similarity 0.9849\n",
      "Best match for 'Erasme de Rotterdam' → 'Φύρεα' with similarity 0.9920\n",
      "Best match for 'Leonardo da Vinci' → 'Leonardo di ser Piero da Vinci' with similarity 0.9986\n",
      "Best match for 'Leonardo di ser Piero da Vinci' → 'Leonardo da Vinci' with similarity 0.9986\n",
      "Best match for 'Леонардо да Винчи' → 'Leonardo da Vinci' with similarity 0.9947\n",
      "Best match for 'Pieter Bruegel the Elder' → 'Pieter Bruegel de Oudere' with similarity 0.9996\n",
      "Best match for 'Pieter Bruegel de Oude' → 'Pieter Bruegel de Oudere' with similarity 0.9992\n",
      "Best match for 'Pieter Bruegel de Oudere' → 'Pieter Bruegel the Elder' with similarity 0.9996\n",
      "Best match for 'Pieter Brueghel l'Ancien' → 'Pieter Bruegel de Oude' with similarity 0.9983\n",
      "Best match for 'Pieter Brueghel the Younger' → 'Pieter Brueghel de Jonge' with similarity 0.9995\n",
      "Best match for 'Pieter Brueghel de Jonge' → 'Pieter Brueghel the Younger' with similarity 0.9995\n",
      "Best match for 'Pieter Brueghel le Jeune' → 'Pieter Bruegel de Oude' with similarity 0.9990\n",
      "Best match for 'Tim Lee' → 'Timothy Lee' with similarity 0.9985\n",
      "Best match for 'Timothy Lee' → 'Tim Lee' with similarity 0.9985\n",
      "Best match for 'Tim Leeds' → 'Tim Lee' with similarity 0.9750\n",
      "Best match for 'Pyrreia' → 'Pyrraia' with similarity 0.9984\n",
      "Best match for 'Φύρεα' → 'Phyrea' with similarity 0.9972\n",
      "Best match for 'Pyrria' → 'Pyrria' with similarity 1.0000\n",
      "Best match for 'Pyrrea' → 'Pyrria' with similarity 0.9987\n",
      "Best match for 'Pyrraia' → 'Pyrria' with similarity 0.9987\n",
      "Best match for 'Pyrria' → 'Pyrria' with similarity 1.0000\n",
      "Best match for 'Paurreia' → 'Phyreia' with similarity 0.9965\n",
      "Best match for 'Pyrea' → 'Phyrea' with similarity 0.9979\n",
      "Best match for 'Phyreia' → 'Phyrea' with similarity 0.9971\n",
      "Best match for 'Phyrea' → 'Pyrea' with similarity 0.9979\n",
      "Best match for 'Πύρρεια' → 'Pyrea' with similarity 0.9977\n",
      "Best match for 'Ἄβελλα' → 'Abella' with similarity 0.9948\n",
      "Best match for 'Abella' → 'Ἄβελλα' with similarity 0.9948\n",
      "Best match for 'Ἀβέλλοις' → 'Ἄβελλα' with similarity 0.9830\n"
     ]
    }
   ],
   "source": [
    "sim = compute_name_similarities(names)\n",
    "print_similarities(names, sim)\n"
   ]
  },
  {
   "cell_type": "markdown",
   "id": "f4780ef2",
   "metadata": {},
   "source": [
    "## Clustering\n"
   ]
  },
  {
   "cell_type": "code",
   "execution_count": 9,
   "id": "2a420fd9",
   "metadata": {},
   "outputs": [],
   "source": [
    "from sklearn.cluster import AgglomerativeClustering\n",
    "from sklearn.metrics.pairwise import cosine_similarity\n"
   ]
  },
  {
   "cell_type": "code",
   "execution_count": 10,
   "id": "185b4c84",
   "metadata": {},
   "outputs": [],
   "source": [
    "def cluster_names(names, threshold=0.75):\n",
    "    # Load eridu model\n",
    "    model = SentenceTransformer(\"Graphlet-AI/eridu\")\n",
    "    embeddings = model.encode(names, normalize_embeddings=True)\n",
    "\n",
    "    # Convert cosine similarity → distance\n",
    "    # distance = 1 - similarity\n",
    "    distance_matrix = 1 - cosine_similarity(embeddings)\n",
    "\n",
    "    # Agglomerative clustering\n",
    "    clustering = AgglomerativeClustering(\n",
    "        metric=\"precomputed\",\n",
    "        linkage=\"average\",\n",
    "        distance_threshold=1 - threshold,  # threshold on similarity\n",
    "        n_clusters=None                   # let it decide based on threshold\n",
    "    )\n",
    "    clustering.fit(distance_matrix)\n",
    "\n",
    "    # Group names by cluster\n",
    "    clusters = {}\n",
    "    for idx, label in enumerate(clustering.labels_):\n",
    "        clusters.setdefault(label, []).append(names[idx])\n",
    "\n",
    "    return clusters\n"
   ]
  },
  {
   "cell_type": "code",
   "execution_count": 11,
   "id": "4dc9f9b6",
   "metadata": {},
   "outputs": [
    {
     "name": "stdout",
     "output_type": "stream",
     "text": [
      "Group 1: ['Frank Lloyd Right', 'Leonardo da Vinci', 'Leonardo di ser Piero da Vinci', 'Леонардо да Винчи']\n",
      "Group 2: ['Jim Jeffries']\n",
      "Group 3: ['Russell H. Jurney', 'Russell Henry Jurney', 'Русс Джерни']\n",
      "Group 4: ['Erasmus Rotterodamus']\n",
      "Group 5: ['Erasmus van Rotterdam']\n",
      "Group 6: ['Erasme de Rotterdam']\n",
      "Group 7: ['Pieter Bruegel the Elder', 'Pieter Bruegel de Oude', 'Pieter Bruegel de Oudere', \"Pieter Brueghel l'Ancien\", 'Pieter Brueghel the Younger', 'Pieter Brueghel de Jonge', 'Pieter Brueghel le Jeune']\n",
      "Group 8: ['Tim Lee', 'Timothy Lee']\n",
      "Group 9: ['Tim Leeds']\n",
      "Group 10: ['Pyrreia', 'Φύρεα', 'Pyrria', 'Pyrrea', 'Pyrraia', 'Pyrria', 'Paurreia', 'Pyrea', 'Phyreia', 'Phyrea', 'Πύρρεια']\n",
      "Group 11: ['Ἄβελλα', 'Abella']\n",
      "Group 12: ['Ἀβέλλοις']\n"
     ]
    }
   ],
   "source": [
    "clusters = cluster_names(names, threshold=0.992)\n",
    "for i, group in enumerate(clusters.values(), start=1):\n",
    "    print(f\"Group {i}: {group}\")"
   ]
  },
  {
   "cell_type": "code",
   "execution_count": null,
   "id": "0905cb90",
   "metadata": {},
   "outputs": [],
   "source": []
  },
  {
   "cell_type": "code",
   "execution_count": null,
   "id": "57242a86",
   "metadata": {},
   "outputs": [],
   "source": []
  },
  {
   "cell_type": "code",
   "execution_count": null,
   "id": "37fd6693",
   "metadata": {},
   "outputs": [],
   "source": []
  }
 ],
 "metadata": {
  "kernelspec": {
   "display_name": ".venv",
   "language": "python",
   "name": "python3"
  },
  "language_info": {
   "codemirror_mode": {
    "name": "ipython",
    "version": 3
   },
   "file_extension": ".py",
   "mimetype": "text/x-python",
   "name": "python",
   "nbconvert_exporter": "python",
   "pygments_lexer": "ipython3",
   "version": "3.12.9"
  }
 },
 "nbformat": 4,
 "nbformat_minor": 5
}
