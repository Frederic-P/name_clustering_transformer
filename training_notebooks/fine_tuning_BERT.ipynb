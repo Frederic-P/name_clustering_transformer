{
 "cells": [
  {
   "cell_type": "code",
   "execution_count": 1,
   "id": "4e29d7dc",
   "metadata": {},
   "outputs": [
    {
     "name": "stderr",
     "output_type": "stream",
     "text": [
      "/home/pricie/frederic/name_clustering_transformer/.venv/lib64/python3.12/site-packages/tqdm/auto.py:21: TqdmWarning: IProgress not found. Please update jupyter and ipywidgets. See https://ipywidgets.readthedocs.io/en/stable/user_install.html\n",
      "  from .autonotebook import tqdm as notebook_tqdm\n"
     ]
    }
   ],
   "source": [
    "import pandas as pd\n",
    "import torch\n",
    "from torch.utils.data import Dataset\n",
    "from transformers import BertTokenizer, BertForSequenceClassification, Trainer, TrainingArguments\n",
    "from sklearn.metrics import accuracy_score, f1_score, precision_score, recall_score\n",
    "import os\n",
    "import sys\n",
    "sys.path.append('../utils')\n",
    "import databalancing"
   ]
  },
  {
   "cell_type": "code",
   "execution_count": 2,
   "id": "2081eb6a",
   "metadata": {},
   "outputs": [
    {
     "name": "stdout",
     "output_type": "stream",
     "text": [
      "Tue Sep 30 12:14:49 2025       \n",
      "+-----------------------------------------------------------------------------------------+\n",
      "| NVIDIA-SMI 575.51.03              Driver Version: 575.51.03      CUDA Version: 12.9     |\n",
      "|-----------------------------------------+------------------------+----------------------+\n",
      "| GPU  Name                 Persistence-M | Bus-Id          Disp.A | Volatile Uncorr. ECC |\n",
      "| Fan  Temp   Perf          Pwr:Usage/Cap |           Memory-Usage | GPU-Util  Compute M. |\n",
      "|                                         |                        |               MIG M. |\n",
      "|=========================================+========================+======================|\n",
      "|   0  NVIDIA GeForce RTX 3090        Off |   00000000:01:00.0 Off |                  N/A |\n",
      "| 34%   37C    P8             36W /  350W |       1MiB /  24576MiB |      0%      Default |\n",
      "|                                         |                        |                  N/A |\n",
      "+-----------------------------------------+------------------------+----------------------+\n",
      "|   1  NVIDIA GeForce RTX 3090        Off |   00000000:41:00.0 Off |                  N/A |\n",
      "| 39%   38C    P8             34W /  350W |       1MiB /  24576MiB |      0%      Default |\n",
      "|                                         |                        |                  N/A |\n",
      "+-----------------------------------------+------------------------+----------------------+\n",
      "|   2  NVIDIA GeForce RTX 3090        Off |   00000000:81:00.0 Off |                  N/A |\n",
      "| 41%   39C    P8             33W /  350W |       1MiB /  24576MiB |      0%      Default |\n",
      "|                                         |                        |                  N/A |\n",
      "+-----------------------------------------+------------------------+----------------------+\n",
      "|   3  NVIDIA GeForce RTX 3090        Off |   00000000:C1:00.0 Off |                  N/A |\n",
      "| 30%   28C    P8             30W /  350W |       1MiB /  24576MiB |      0%      Default |\n",
      "|                                         |                        |                  N/A |\n",
      "+-----------------------------------------+------------------------+----------------------+\n",
      "                                                                                         \n",
      "+-----------------------------------------------------------------------------------------+\n",
      "| Processes:                                                                              |\n",
      "|  GPU   GI   CI              PID   Type   Process name                        GPU Memory |\n",
      "|        ID   ID                                                               Usage      |\n",
      "|=========================================================================================|\n",
      "|  No running processes found                                                             |\n",
      "+-----------------------------------------------------------------------------------------+\n"
     ]
    }
   ],
   "source": [
    "! nvidia-smi"
   ]
  },
  {
   "cell_type": "code",
   "execution_count": 3,
   "id": "d4e86adc",
   "metadata": {},
   "outputs": [
    {
     "data": {
      "text/plain": [
       "'bert-finetune-name-similarity_rebalanced'"
      ]
     },
     "execution_count": 3,
     "metadata": {},
     "output_type": "execute_result"
    }
   ],
   "source": [
    "rebalance = True\n",
    "experiment_name = \"bert-finetune-name-similarity\"\n",
    "if rebalance:\n",
    "    experiment_name+='_rebalanced'\n",
    "experiment_name"
   ]
  },
  {
   "cell_type": "code",
   "execution_count": 4,
   "id": "26c53cae",
   "metadata": {},
   "outputs": [],
   "source": [
    "gpu_device = 0 #use gpu 0\n",
    "os.environ[\"CUDA_VISIBLE_DEVICES\"]=str(gpu_device)\n"
   ]
  },
  {
   "cell_type": "code",
   "execution_count": 5,
   "id": "01a60dfc",
   "metadata": {},
   "outputs": [],
   "source": [
    "# 1. Load the dataset\n",
    "data = pd.read_csv(r\"../data/pairdata.csv\")"
   ]
  },
  {
   "cell_type": "code",
   "execution_count": 6,
   "id": "1211a693",
   "metadata": {},
   "outputs": [],
   "source": [
    "# 2. Split into train, validation, test\n",
    "train_df = data[data[\"dataset\"] == \"train\"]\n",
    "val_df = data[data[\"dataset\"] == \"validation\"]\n",
    "test_df = data[data[\"dataset\"] == \"test\"]\n",
    "mixed_df = data[data[\"dataset\"] == \"mixed\"] \n",
    "\n",
    "#TODO: catch cases where data is mixed!"
   ]
  },
  {
   "cell_type": "code",
   "execution_count": 7,
   "id": "00965b0e",
   "metadata": {},
   "outputs": [],
   "source": [
    "if rebalance: \n",
    "    train_df = databalancing.rebalance_dataset(train_df)\n",
    "    val_df = databalancing.rebalance_dataset(val_df)\n",
    "    test_df = databalancing.rebalance_dataset(test_df)"
   ]
  },
  {
   "cell_type": "code",
   "execution_count": 8,
   "id": "4ae30f15",
   "metadata": {},
   "outputs": [
    {
     "name": "stdout",
     "output_type": "stream",
     "text": [
      "346715 156150 51924 100640 128188\n"
     ]
    }
   ],
   "source": [
    "print(len(data), len(train_df), len(val_df), len(test_df), len(mixed_df))"
   ]
  },
  {
   "cell_type": "code",
   "execution_count": 9,
   "id": "8b31ebaa",
   "metadata": {},
   "outputs": [],
   "source": [
    "# 3. Dataset class\n",
    "class NamePairDataset(Dataset):\n",
    "    def __init__(self, df, tokenizer, max_len=32):\n",
    "        self.df = df.reset_index(drop=True)\n",
    "        self.tokenizer = tokenizer\n",
    "        self.max_len = max_len\n",
    "\n",
    "    def __len__(self):\n",
    "        return len(self.df)\n",
    "\n",
    "    def __getitem__(self, idx):\n",
    "        row = self.df.iloc[idx]\n",
    "        text1, text2, label = str(row.name1), str(row.name2), int(row.are_same)\n",
    "        encoding = self.tokenizer(\n",
    "            text1,\n",
    "            text2,\n",
    "            padding=\"max_length\",\n",
    "            truncation=True,\n",
    "            max_length=self.max_len,\n",
    "            return_tensors=\"pt\"\n",
    "        )\n",
    "        return {\n",
    "            'input_ids': encoding['input_ids'].squeeze(),\n",
    "            'attention_mask': encoding['attention_mask'].squeeze(),\n",
    "            'labels': torch.tensor(label, dtype=torch.long)\n",
    "        }"
   ]
  },
  {
   "cell_type": "code",
   "execution_count": 10,
   "id": "46116acd",
   "metadata": {},
   "outputs": [],
   "source": [
    "# 4. Tokenizer and datasets\n",
    "tokenizer = BertTokenizer.from_pretrained(\"bert-base-uncased\")\n",
    "train_dataset = NamePairDataset(train_df, tokenizer)\n",
    "val_dataset = NamePairDataset(val_df, tokenizer)\n",
    "test_dataset = NamePairDataset(test_df, tokenizer)"
   ]
  },
  {
   "cell_type": "code",
   "execution_count": 11,
   "id": "598ae82d",
   "metadata": {},
   "outputs": [
    {
     "name": "stderr",
     "output_type": "stream",
     "text": [
      "Some weights of BertForSequenceClassification were not initialized from the model checkpoint at bert-base-uncased and are newly initialized: ['classifier.bias', 'classifier.weight']\n",
      "You should probably TRAIN this model on a down-stream task to be able to use it for predictions and inference.\n"
     ]
    }
   ],
   "source": [
    "# 5. Load model\n",
    "model = BertForSequenceClassification.from_pretrained(\"bert-base-uncased\", num_labels=2)"
   ]
  },
  {
   "cell_type": "code",
   "execution_count": 12,
   "id": "791a1d27",
   "metadata": {},
   "outputs": [],
   "source": [
    "# 6. Metrics function\n",
    "def ez_metrics(labels, preds):\n",
    "    return {\n",
    "            'accuracy': accuracy_score(labels, preds),\n",
    "            'precision': precision_score(labels, preds),\n",
    "            'recall': recall_score(labels, preds),\n",
    "            'f1': f1_score(labels, preds)\n",
    "        }\n",
    "\n",
    "\n",
    "def compute_metrics(pred):\n",
    "    labels = pred.label_ids\n",
    "    preds = pred.predictions.argmax(-1)\n",
    "    return ez_metrics(labels, preds)\n",
    "    "
   ]
  },
  {
   "cell_type": "code",
   "execution_count": 13,
   "id": "abff6cfa",
   "metadata": {},
   "outputs": [],
   "source": [
    "# 7. Training arguments\n",
    "training_args = TrainingArguments(\n",
    "    output_dir=\"./results_\"+experiment_name,\n",
    "    eval_strategy=\"epoch\",\n",
    "    save_strategy=\"epoch\",\n",
    "    learning_rate=2e-5,\n",
    "    per_device_train_batch_size=16,\n",
    "    per_device_eval_batch_size=16,\n",
    "    num_train_epochs=5,\n",
    "    weight_decay=0.01,\n",
    "    load_best_model_at_end=True,\n",
    "    metric_for_best_model=\"f1\"\n",
    ")"
   ]
  },
  {
   "cell_type": "code",
   "execution_count": 14,
   "id": "0ec0e0b0",
   "metadata": {},
   "outputs": [
    {
     "name": "stderr",
     "output_type": "stream",
     "text": [
      "/tmp/ipykernel_1933537/3871163508.py:2: FutureWarning: `tokenizer` is deprecated and will be removed in version 5.0.0 for `Trainer.__init__`. Use `processing_class` instead.\n",
      "  trainer = Trainer(\n"
     ]
    }
   ],
   "source": [
    "# 8. Trainer\n",
    "trainer = Trainer(\n",
    "    model=model,\n",
    "    args=training_args,\n",
    "    train_dataset=train_dataset,\n",
    "    eval_dataset=val_dataset,\n",
    "    tokenizer=tokenizer,\n",
    "    compute_metrics=compute_metrics\n",
    ")"
   ]
  },
  {
   "cell_type": "code",
   "execution_count": 15,
   "id": "39ca745d",
   "metadata": {},
   "outputs": [
    {
     "data": {
      "text/html": [
       "\n",
       "    <div>\n",
       "      \n",
       "      <progress value='48800' max='48800' style='width:300px; height:20px; vertical-align: middle;'></progress>\n",
       "      [48800/48800 35:30, Epoch 5/5]\n",
       "    </div>\n",
       "    <table border=\"1\" class=\"dataframe\">\n",
       "  <thead>\n",
       " <tr style=\"text-align: left;\">\n",
       "      <th>Epoch</th>\n",
       "      <th>Training Loss</th>\n",
       "      <th>Validation Loss</th>\n",
       "      <th>Accuracy</th>\n",
       "      <th>Precision</th>\n",
       "      <th>Recall</th>\n",
       "      <th>F1</th>\n",
       "    </tr>\n",
       "  </thead>\n",
       "  <tbody>\n",
       "    <tr>\n",
       "      <td>1</td>\n",
       "      <td>0.095200</td>\n",
       "      <td>0.463948</td>\n",
       "      <td>0.895289</td>\n",
       "      <td>0.891206</td>\n",
       "      <td>0.900508</td>\n",
       "      <td>0.895833</td>\n",
       "    </tr>\n",
       "    <tr>\n",
       "      <td>2</td>\n",
       "      <td>0.048200</td>\n",
       "      <td>0.711165</td>\n",
       "      <td>0.871081</td>\n",
       "      <td>0.938627</td>\n",
       "      <td>0.794084</td>\n",
       "      <td>0.860326</td>\n",
       "    </tr>\n",
       "    <tr>\n",
       "      <td>3</td>\n",
       "      <td>0.018700</td>\n",
       "      <td>0.759799</td>\n",
       "      <td>0.888163</td>\n",
       "      <td>0.920088</td>\n",
       "      <td>0.850166</td>\n",
       "      <td>0.883746</td>\n",
       "    </tr>\n",
       "    <tr>\n",
       "      <td>4</td>\n",
       "      <td>0.016000</td>\n",
       "      <td>0.824116</td>\n",
       "      <td>0.883927</td>\n",
       "      <td>0.934333</td>\n",
       "      <td>0.825899</td>\n",
       "      <td>0.876776</td>\n",
       "    </tr>\n",
       "    <tr>\n",
       "      <td>5</td>\n",
       "      <td>0.003900</td>\n",
       "      <td>1.047649</td>\n",
       "      <td>0.880537</td>\n",
       "      <td>0.940557</td>\n",
       "      <td>0.812418</td>\n",
       "      <td>0.871804</td>\n",
       "    </tr>\n",
       "  </tbody>\n",
       "</table><p>"
      ],
      "text/plain": [
       "<IPython.core.display.HTML object>"
      ]
     },
     "metadata": {},
     "output_type": "display_data"
    },
    {
     "data": {
      "text/plain": [
       "TrainOutput(global_step=48800, training_loss=0.05389170395668413, metrics={'train_runtime': 2131.2143, 'train_samples_per_second': 366.34, 'train_steps_per_second': 22.898, 'total_flos': 1.283899727952e+16, 'train_loss': 0.05389170395668413, 'epoch': 5.0})"
      ]
     },
     "execution_count": 15,
     "metadata": {},
     "output_type": "execute_result"
    }
   ],
   "source": [
    "# 9. Train\n",
    "trainer.train()"
   ]
  },
  {
   "cell_type": "code",
   "execution_count": 16,
   "id": "acf67b3c",
   "metadata": {},
   "outputs": [
    {
     "name": "stdout",
     "output_type": "stream",
     "text": [
      "Random guessing baseline on test set:\n"
     ]
    },
    {
     "data": {
      "text/plain": [
       "{'accuracy': 0.49839030206677265,\n",
       " 'precision': 0.4983926020003175,\n",
       " 'recall': 0.49910572337042924,\n",
       " 'f1': 0.4987489077766304}"
      ]
     },
     "execution_count": 16,
     "metadata": {},
     "output_type": "execute_result"
    }
   ],
   "source": [
    "# 10. Baseline evaluation on test with random guessing: \n",
    "actuals = test_df['are_same']\n",
    "preds = torch.randint(low=0, high=2, size=(len(actuals),))\n",
    "print(\"Random guessing baseline on test set:\")\n",
    "ez_metrics(actuals, preds)"
   ]
  },
  {
   "cell_type": "code",
   "execution_count": 17,
   "id": "0ff385b1",
   "metadata": {},
   "outputs": [
    {
     "data": {
      "text/html": [
       "\n",
       "    <div>\n",
       "      \n",
       "      <progress value='6290' max='6290' style='width:300px; height:20px; vertical-align: middle;'></progress>\n",
       "      [6290/6290 01:17]\n",
       "    </div>\n",
       "    "
      ],
      "text/plain": [
       "<IPython.core.display.HTML object>"
      ]
     },
     "metadata": {},
     "output_type": "display_data"
    },
    {
     "name": "stdout",
     "output_type": "stream",
     "text": [
      "Test metrics: {'eval_loss': 0.6525376439094543, 'eval_accuracy': 0.8580087440381559, 'eval_precision': 0.8455253366066976, 'eval_recall': 0.8760731319554849, 'eval_f1': 0.8605282164399071, 'eval_runtime': 77.1492, 'eval_samples_per_second': 1304.486, 'eval_steps_per_second': 81.53, 'epoch': 5.0}\n"
     ]
    }
   ],
   "source": [
    "# 10. Evaluate on test set\n",
    "metrics = trainer.evaluate(test_dataset)\n",
    "print(\"Test metrics:\", metrics)"
   ]
  },
  {
   "cell_type": "code",
   "execution_count": 18,
   "id": "7f69526d",
   "metadata": {},
   "outputs": [
    {
     "data": {
      "text/plain": [
       "('../completed_experiments/bert-finetune-name-similarity_rebalanced/tokenizer_config.json',\n",
       " '../completed_experiments/bert-finetune-name-similarity_rebalanced/special_tokens_map.json',\n",
       " '../completed_experiments/bert-finetune-name-similarity_rebalanced/vocab.txt',\n",
       " '../completed_experiments/bert-finetune-name-similarity_rebalanced/added_tokens.json')"
      ]
     },
     "execution_count": 18,
     "metadata": {},
     "output_type": "execute_result"
    }
   ],
   "source": [
    "# 11. Save model\n",
    "trainer.save_model(f\"../completed_experiments/{experiment_name}\")\n",
    "tokenizer.save_pretrained(f\"../completed_experiments/{experiment_name}\")"
   ]
  },
  {
   "cell_type": "markdown",
   "id": "69189be6",
   "metadata": {},
   "source": []
  }
 ],
 "metadata": {
  "kernelspec": {
   "display_name": ".venv",
   "language": "python",
   "name": "python3"
  },
  "language_info": {
   "codemirror_mode": {
    "name": "ipython",
    "version": 3
   },
   "file_extension": ".py",
   "mimetype": "text/x-python",
   "name": "python",
   "nbconvert_exporter": "python",
   "pygments_lexer": "ipython3",
   "version": "3.12.9"
  }
 },
 "nbformat": 4,
 "nbformat_minor": 5
}
