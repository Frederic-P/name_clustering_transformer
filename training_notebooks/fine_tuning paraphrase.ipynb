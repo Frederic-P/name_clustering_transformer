{
 "cells": [
  {
   "cell_type": "code",
   "execution_count": 1,
   "id": "4e29d7dc",
   "metadata": {},
   "outputs": [
    {
     "name": "stderr",
     "output_type": "stream",
     "text": [
      "/home/pricie/frederic/name_clustering_transformer/.venv/lib64/python3.12/site-packages/tqdm/auto.py:21: TqdmWarning: IProgress not found. Please update jupyter and ipywidgets. See https://ipywidgets.readthedocs.io/en/stable/user_install.html\n",
      "  from .autonotebook import tqdm as notebook_tqdm\n"
     ]
    }
   ],
   "source": [
    "import pandas as pd\n",
    "import torch\n",
    "from torch.utils.data import Dataset\n",
    "from transformers import AutoTokenizer, AutoModelForSequenceClassification, Trainer, TrainingArguments\n",
    "from sklearn.metrics import accuracy_score, f1_score, precision_score, recall_score\n",
    "import os\n",
    "import sys\n",
    "sys.path.append('../utils')\n",
    "import databalancing"
   ]
  },
  {
   "cell_type": "code",
   "execution_count": 2,
   "id": "2081eb6a",
   "metadata": {},
   "outputs": [
    {
     "name": "stdout",
     "output_type": "stream",
     "text": [
      "Tue Sep 30 12:15:27 2025       \n",
      "+-----------------------------------------------------------------------------------------+\n",
      "| NVIDIA-SMI 575.51.03              Driver Version: 575.51.03      CUDA Version: 12.9     |\n",
      "|-----------------------------------------+------------------------+----------------------+\n",
      "| GPU  Name                 Persistence-M | Bus-Id          Disp.A | Volatile Uncorr. ECC |\n",
      "| Fan  Temp   Perf          Pwr:Usage/Cap |           Memory-Usage | GPU-Util  Compute M. |\n",
      "|                                         |                        |               MIG M. |\n",
      "|=========================================+========================+======================|\n",
      "|   0  NVIDIA GeForce RTX 3090        Off |   00000000:01:00.0 Off |                  N/A |\n",
      "| 67%   70C    P2            323W /  350W |    2268MiB /  24576MiB |     80%      Default |\n",
      "|                                         |                        |                  N/A |\n",
      "+-----------------------------------------+------------------------+----------------------+\n",
      "|   1  NVIDIA GeForce RTX 3090        Off |   00000000:41:00.0 Off |                  N/A |\n",
      "| 31%   33C    P8             32W /  350W |       1MiB /  24576MiB |      0%      Default |\n",
      "|                                         |                        |                  N/A |\n",
      "+-----------------------------------------+------------------------+----------------------+\n",
      "|   2  NVIDIA GeForce RTX 3090        Off |   00000000:81:00.0 Off |                  N/A |\n",
      "| 34%   36C    P8             32W /  350W |       1MiB /  24576MiB |      0%      Default |\n",
      "|                                         |                        |                  N/A |\n",
      "+-----------------------------------------+------------------------+----------------------+\n",
      "|   3  NVIDIA GeForce RTX 3090        Off |   00000000:C1:00.0 Off |                  N/A |\n",
      "| 30%   28C    P8             30W /  350W |       1MiB /  24576MiB |      0%      Default |\n",
      "|                                         |                        |                  N/A |\n",
      "+-----------------------------------------+------------------------+----------------------+\n",
      "                                                                                         \n",
      "+-----------------------------------------------------------------------------------------+\n",
      "| Processes:                                                                              |\n",
      "|  GPU   GI   CI              PID   Type   Process name                        GPU Memory |\n",
      "|        ID   ID                                                               Usage      |\n",
      "|=========================================================================================|\n",
      "|    0   N/A  N/A         1933537      C   ..._transformer/.venv/bin/python       2258MiB |\n",
      "+-----------------------------------------------------------------------------------------+\n"
     ]
    }
   ],
   "source": [
    "! nvidia-smi"
   ]
  },
  {
   "cell_type": "code",
   "execution_count": 3,
   "id": "d4e86adc",
   "metadata": {},
   "outputs": [
    {
     "data": {
      "text/plain": [
       "'paraphrase-finetune-name-similarity_rebalanced'"
      ]
     },
     "execution_count": 3,
     "metadata": {},
     "output_type": "execute_result"
    }
   ],
   "source": [
    "experiment_name = \"paraphrase-finetune-name-similarity\"\n",
    "rebalance = True\n",
    "\n",
    "if rebalance:\n",
    "    experiment_name+='_rebalanced'\n",
    "experiment_name"
   ]
  },
  {
   "cell_type": "code",
   "execution_count": 4,
   "id": "26c53cae",
   "metadata": {},
   "outputs": [],
   "source": [
    "gpu_device = 1 #use gpu 0\n",
    "os.environ[\"CUDA_VISIBLE_DEVICES\"]=str(gpu_device)\n"
   ]
  },
  {
   "cell_type": "code",
   "execution_count": 5,
   "id": "01a60dfc",
   "metadata": {},
   "outputs": [],
   "source": [
    "# 1. Load the dataset\n",
    "data = pd.read_csv(r\"../data/pairdata.csv\")"
   ]
  },
  {
   "cell_type": "code",
   "execution_count": 6,
   "id": "1211a693",
   "metadata": {},
   "outputs": [],
   "source": [
    "# 2. Split into train, validation, test\n",
    "train_df = data[data[\"dataset\"] == \"train\"]\n",
    "val_df = data[data[\"dataset\"] == \"validation\"]\n",
    "test_df = data[data[\"dataset\"] == \"test\"]\n",
    "mixed_df = data[data[\"dataset\"] == \"mixed\"] \n",
    "\n",
    "#TODO: catch cases where data is mixed!"
   ]
  },
  {
   "cell_type": "code",
   "execution_count": 7,
   "id": "148cc146",
   "metadata": {},
   "outputs": [],
   "source": [
    "if rebalance: \n",
    "    train_df = databalancing.rebalance_dataset(train_df)\n",
    "    val_df = databalancing.rebalance_dataset(val_df)\n",
    "    test_df = databalancing.rebalance_dataset(test_df)"
   ]
  },
  {
   "cell_type": "code",
   "execution_count": 8,
   "id": "4ae30f15",
   "metadata": {},
   "outputs": [
    {
     "name": "stdout",
     "output_type": "stream",
     "text": [
      "346715 156150 51924 100640 128188\n"
     ]
    }
   ],
   "source": [
    "print(len(data), len(train_df), len(val_df), len(test_df), len(mixed_df))"
   ]
  },
  {
   "cell_type": "code",
   "execution_count": 9,
   "id": "8b31ebaa",
   "metadata": {},
   "outputs": [],
   "source": [
    "# 3. Dataset class\n",
    "class NamePairDataset(Dataset):\n",
    "    def __init__(self, df, tokenizer, max_len=32):\n",
    "        self.df = df.reset_index(drop=True)\n",
    "        self.tokenizer = tokenizer\n",
    "        self.max_len = max_len\n",
    "\n",
    "    def __len__(self):\n",
    "        return len(self.df)\n",
    "\n",
    "    def __getitem__(self, idx):\n",
    "        row = self.df.iloc[idx]\n",
    "        text1, text2, label = str(row.name1), str(row.name2), int(row.are_same)\n",
    "        encoding = self.tokenizer(\n",
    "            text1,\n",
    "            text2,\n",
    "            padding=\"max_length\",\n",
    "            truncation=True,\n",
    "            max_length=self.max_len,\n",
    "            return_tensors=\"pt\"\n",
    "        )\n",
    "        return {\n",
    "            'input_ids': encoding['input_ids'].squeeze(),\n",
    "            'attention_mask': encoding['attention_mask'].squeeze(),\n",
    "            'labels': torch.tensor(label, dtype=torch.long)\n",
    "        }"
   ]
  },
  {
   "cell_type": "code",
   "execution_count": 10,
   "id": "46116acd",
   "metadata": {},
   "outputs": [],
   "source": [
    "# 4. Tokenizer and datasets\n",
    "tokenizer = AutoTokenizer.from_pretrained('sentence-transformers/paraphrase-multilingual-MiniLM-L12-v2')\n",
    "train_dataset = NamePairDataset(train_df, tokenizer)\n",
    "val_dataset = NamePairDataset(val_df, tokenizer)\n",
    "test_dataset = NamePairDataset(test_df, tokenizer)"
   ]
  },
  {
   "cell_type": "code",
   "execution_count": null,
   "id": "598ae82d",
   "metadata": {},
   "outputs": [
    {
     "name": "stderr",
     "output_type": "stream",
     "text": [
      "Some weights of BertForSequenceClassification were not initialized from the model checkpoint at sentence-transformers/paraphrase-multilingual-MiniLM-L12-v2 and are newly initialized: ['classifier.bias', 'classifier.weight']\n",
      "You should probably TRAIN this model on a down-stream task to be able to use it for predictions and inference.\n"
     ]
    }
   ],
   "source": [
    "# 5. Load model\n",
    "model = AutoModelForSequenceClassification.from_pretrained('sentence-transformers/paraphrase-multilingual-MiniLM-L12-v2')"
   ]
  },
  {
   "cell_type": "code",
   "execution_count": 12,
   "id": "791a1d27",
   "metadata": {},
   "outputs": [],
   "source": [
    "# 6. Metrics function\n",
    "def ez_metrics(labels, preds):\n",
    "    return {\n",
    "            'accuracy': accuracy_score(labels, preds),\n",
    "            'precision': precision_score(labels, preds),\n",
    "            'recall': recall_score(labels, preds),\n",
    "            'f1': f1_score(labels, preds)\n",
    "        }\n",
    "\n",
    "\n",
    "def compute_metrics(pred):\n",
    "    labels = pred.label_ids\n",
    "    preds = pred.predictions.argmax(-1)\n",
    "    return ez_metrics(labels, preds)\n",
    "    "
   ]
  },
  {
   "cell_type": "code",
   "execution_count": 13,
   "id": "abff6cfa",
   "metadata": {},
   "outputs": [],
   "source": [
    "# 7. Training arguments\n",
    "training_args = TrainingArguments(\n",
    "    output_dir=\"./results_\"+experiment_name,\n",
    "    eval_strategy=\"epoch\",\n",
    "    save_strategy=\"epoch\",\n",
    "    learning_rate=2e-5,\n",
    "    per_device_train_batch_size=16,\n",
    "    per_device_eval_batch_size=16,\n",
    "    num_train_epochs=5,\n",
    "    weight_decay=0.01,\n",
    "    load_best_model_at_end=True,\n",
    "    metric_for_best_model=\"f1\"\n",
    ")"
   ]
  },
  {
   "cell_type": "code",
   "execution_count": 14,
   "id": "0ec0e0b0",
   "metadata": {},
   "outputs": [
    {
     "name": "stderr",
     "output_type": "stream",
     "text": [
      "/tmp/ipykernel_1933522/3871163508.py:2: FutureWarning: `tokenizer` is deprecated and will be removed in version 5.0.0 for `Trainer.__init__`. Use `processing_class` instead.\n",
      "  trainer = Trainer(\n"
     ]
    }
   ],
   "source": [
    "# 8. Trainer\n",
    "trainer = Trainer(\n",
    "    model=model,\n",
    "    args=training_args,\n",
    "    train_dataset=train_dataset,\n",
    "    eval_dataset=val_dataset,\n",
    "    tokenizer=tokenizer,\n",
    "    compute_metrics=compute_metrics\n",
    ")"
   ]
  },
  {
   "cell_type": "code",
   "execution_count": 15,
   "id": "39ca745d",
   "metadata": {},
   "outputs": [
    {
     "name": "stderr",
     "output_type": "stream",
     "text": [
      "The tokenizer has new PAD/BOS/EOS tokens that differ from the model config and generation config. The model config and generation config were aligned accordingly, being updated with the tokenizer's values. Updated tokens: {'eos_token_id': 2, 'bos_token_id': 0, 'pad_token_id': 1}.\n"
     ]
    },
    {
     "data": {
      "text/html": [
       "\n",
       "    <div>\n",
       "      \n",
       "      <progress value='48800' max='48800' style='width:300px; height:20px; vertical-align: middle;'></progress>\n",
       "      [48800/48800 29:55, Epoch 5/5]\n",
       "    </div>\n",
       "    <table border=\"1\" class=\"dataframe\">\n",
       "  <thead>\n",
       " <tr style=\"text-align: left;\">\n",
       "      <th>Epoch</th>\n",
       "      <th>Training Loss</th>\n",
       "      <th>Validation Loss</th>\n",
       "      <th>Accuracy</th>\n",
       "      <th>Precision</th>\n",
       "      <th>Recall</th>\n",
       "      <th>F1</th>\n",
       "    </tr>\n",
       "  </thead>\n",
       "  <tbody>\n",
       "    <tr>\n",
       "      <td>1</td>\n",
       "      <td>0.093900</td>\n",
       "      <td>0.186653</td>\n",
       "      <td>0.954703</td>\n",
       "      <td>0.945136</td>\n",
       "      <td>0.965450</td>\n",
       "      <td>0.955185</td>\n",
       "    </tr>\n",
       "    <tr>\n",
       "      <td>2</td>\n",
       "      <td>0.047800</td>\n",
       "      <td>0.265312</td>\n",
       "      <td>0.953779</td>\n",
       "      <td>0.939327</td>\n",
       "      <td>0.970226</td>\n",
       "      <td>0.954527</td>\n",
       "    </tr>\n",
       "    <tr>\n",
       "      <td>3</td>\n",
       "      <td>0.032700</td>\n",
       "      <td>0.295986</td>\n",
       "      <td>0.955069</td>\n",
       "      <td>0.951953</td>\n",
       "      <td>0.958516</td>\n",
       "      <td>0.955223</td>\n",
       "    </tr>\n",
       "    <tr>\n",
       "      <td>4</td>\n",
       "      <td>0.019700</td>\n",
       "      <td>0.290108</td>\n",
       "      <td>0.955647</td>\n",
       "      <td>0.953568</td>\n",
       "      <td>0.957939</td>\n",
       "      <td>0.955748</td>\n",
       "    </tr>\n",
       "    <tr>\n",
       "      <td>5</td>\n",
       "      <td>0.007500</td>\n",
       "      <td>0.339577</td>\n",
       "      <td>0.954953</td>\n",
       "      <td>0.953156</td>\n",
       "      <td>0.956937</td>\n",
       "      <td>0.955043</td>\n",
       "    </tr>\n",
       "  </tbody>\n",
       "</table><p>"
      ],
      "text/plain": [
       "<IPython.core.display.HTML object>"
      ]
     },
     "metadata": {},
     "output_type": "display_data"
    },
    {
     "data": {
      "text/plain": [
       "TrainOutput(global_step=48800, training_loss=0.052752240275750394, metrics={'train_runtime': 1795.6256, 'train_samples_per_second': 434.807, 'train_steps_per_second': 27.177, 'total_flos': 3214383377184000.0, 'train_loss': 0.052752240275750394, 'epoch': 5.0})"
      ]
     },
     "execution_count": 15,
     "metadata": {},
     "output_type": "execute_result"
    }
   ],
   "source": [
    "# 9. Train\n",
    "trainer.train()"
   ]
  },
  {
   "cell_type": "code",
   "execution_count": 16,
   "id": "acf67b3c",
   "metadata": {},
   "outputs": [
    {
     "name": "stdout",
     "output_type": "stream",
     "text": [
      "Random guessing baseline on test set:\n"
     ]
    },
    {
     "data": {
      "text/plain": [
       "{'accuracy': 0.49839030206677265,\n",
       " 'precision': 0.4983926020003175,\n",
       " 'recall': 0.49910572337042924,\n",
       " 'f1': 0.4987489077766304}"
      ]
     },
     "execution_count": 16,
     "metadata": {},
     "output_type": "execute_result"
    }
   ],
   "source": [
    "# 10. Baseline evaluation on test with random guessing: \n",
    "actuals = test_df['are_same']\n",
    "preds = torch.randint(low=0, high=2, size=(len(actuals),))\n",
    "print(\"Random guessing baseline on test set:\")\n",
    "ez_metrics(actuals, preds)"
   ]
  },
  {
   "cell_type": "code",
   "execution_count": 17,
   "id": "0ff385b1",
   "metadata": {},
   "outputs": [
    {
     "data": {
      "text/html": [
       "\n",
       "    <div>\n",
       "      \n",
       "      <progress value='6290' max='6290' style='width:300px; height:20px; vertical-align: middle;'></progress>\n",
       "      [6290/6290 00:57]\n",
       "    </div>\n",
       "    "
      ],
      "text/plain": [
       "<IPython.core.display.HTML object>"
      ]
     },
     "metadata": {},
     "output_type": "display_data"
    },
    {
     "name": "stdout",
     "output_type": "stream",
     "text": [
      "Test metrics: {'eval_loss': 0.4635036587715149, 'eval_accuracy': 0.9327802066772655, 'eval_precision': 0.9212526839081572, 'eval_recall': 0.946462639109698, 'eval_f1': 0.9336875226677906, 'eval_runtime': 57.0552, 'eval_samples_per_second': 1763.907, 'eval_steps_per_second': 110.244, 'epoch': 5.0}\n"
     ]
    }
   ],
   "source": [
    "# 10. Evaluate on test set\n",
    "metrics = trainer.evaluate(test_dataset)\n",
    "print(\"Test metrics:\", metrics)"
   ]
  },
  {
   "cell_type": "code",
   "execution_count": 18,
   "id": "7f69526d",
   "metadata": {},
   "outputs": [
    {
     "data": {
      "text/plain": [
       "('../completed_experiments/paraphrase-finetune-name-similarity_rebalanced/tokenizer_config.json',\n",
       " '../completed_experiments/paraphrase-finetune-name-similarity_rebalanced/special_tokens_map.json',\n",
       " '../completed_experiments/paraphrase-finetune-name-similarity_rebalanced/unigram.json',\n",
       " '../completed_experiments/paraphrase-finetune-name-similarity_rebalanced/added_tokens.json',\n",
       " '../completed_experiments/paraphrase-finetune-name-similarity_rebalanced/tokenizer.json')"
      ]
     },
     "execution_count": 18,
     "metadata": {},
     "output_type": "execute_result"
    }
   ],
   "source": [
    "# 11. Save model\n",
    "trainer.save_model(f\"../completed_experiments/{experiment_name}\")\n",
    "tokenizer.save_pretrained(f\"../completed_experiments/{experiment_name}\")"
   ]
  },
  {
   "cell_type": "markdown",
   "id": "69189be6",
   "metadata": {},
   "source": []
  }
 ],
 "metadata": {
  "kernelspec": {
   "display_name": ".venv",
   "language": "python",
   "name": "python3"
  },
  "language_info": {
   "codemirror_mode": {
    "name": "ipython",
    "version": 3
   },
   "file_extension": ".py",
   "mimetype": "text/x-python",
   "name": "python",
   "nbconvert_exporter": "python",
   "pygments_lexer": "ipython3",
   "version": "3.12.9"
  }
 },
 "nbformat": 4,
 "nbformat_minor": 5
}
